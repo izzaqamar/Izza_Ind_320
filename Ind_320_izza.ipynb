{
 "cells": [
  {
   "cell_type": "markdown",
   "id": "1b26cd5e",
   "metadata": {},
   "source": [
    "# Project IND-320\n",
    "**Name** : Izza Qamar  \n",
    "## Links\n",
    " **GitHub Repository** : https://github.com/izzaqamar/Izza_Ind_320.git  \n",
    "\n",
    " **Streamlit App** : "
   ]
  },
  {
   "cell_type": "markdown",
   "id": "67a923c9",
   "metadata": {},
   "source": [
    "# Project Information"
   ]
  },
  {
   "cell_type": "markdown",
   "id": "dbee0d68",
   "metadata": {},
   "source": [
    "## AI tools usage\n",
    "I have used **chatgpt** to understand how to set up my streamlit app and how to connect it to my github account. Then for the given task I used chatgpt to understand what it means to normalize data and why its important to do if using data of different scales.\n",
    "I again used chatgpt to understand how to create a streamlit app with multiple pages.\n",
    "  "
   ]
  },
  {
   "cell_type": "markdown",
   "id": "77e6b25e",
   "metadata": {
    "jp-MarkdownHeadingCollapsed": true
   },
   "source": [
    "## Project Log \n",
    "  \n",
    "   "
   ]
  },
  {
   "cell_type": "markdown",
   "id": "81315a2b",
   "metadata": {},
   "source": [
    " ### Jupter Notebook\n",
    " sksksk"
   ]
  },
  {
   "cell_type": "markdown",
   "id": "764051ed",
   "metadata": {},
   "source": [
    "### Streamlit app"
   ]
  },
  {
   "cell_type": "markdown",
   "id": "d168ccb3",
   "metadata": {},
   "source": [
    "# Jupyter Task"
   ]
  },
  {
   "cell_type": "markdown",
   "id": "57640602",
   "metadata": {},
   "source": [
    "## Data Loading and Reading"
   ]
  },
  {
   "cell_type": "code",
   "execution_count": null,
   "id": "587112c0",
   "metadata": {},
   "outputs": [],
   "source": [
    "import pandas as pd\n",
    "import matplotlib.pyplot as plt\n",
    "open_meteo_df=pd.read_csv(r\"D:\\NMBU\\semester_1\\IND-320\\Izza_Ind_320\\open-meteo-subset.csv\",parse_dates=['time'])\n",
    "open_meteo_df.head()\n",
    "#open_meteo_df.dtypes"
   ]
  },
  {
   "cell_type": "markdown",
   "id": "70ad708a",
   "metadata": {},
   "source": [
    "##  Plots"
   ]
  },
  {
   "cell_type": "markdown",
   "id": "44ac7ef5",
   "metadata": {},
   "source": [
    "### Column Plot"
   ]
  },
  {
   "cell_type": "code",
   "execution_count": null,
   "id": "11e1c055",
   "metadata": {},
   "outputs": [],
   "source": [
    "open_meteo_df.set_index('time', inplace=True)\n",
    "numeric_cols = open_meteo_df.select_dtypes(include='number')\n",
    "#print(open_meteo_df.head())\n",
    "\n",
    "#Plotting each column separately\n",
    "for i, col in enumerate(numeric_cols.columns):\n",
    "    plt.figure(figsize=(15, 4))\n",
    "    plt.plot(open_meteo_df.index, numeric_cols[col])\n",
    "    plt.title(f\"{col} over Time\")\n",
    "    plt.xlabel(\"Time\")\n",
    "    plt.ylabel(col)\n",
    "    plt.grid(True)\n",
    "    plt.show()"
   ]
  },
  {
   "cell_type": "markdown",
   "id": "9f81d997",
   "metadata": {},
   "source": [
    "### Collective Plot\n",
    "First step is to normalize data. Then we plot the data."
   ]
  },
  {
   "cell_type": "code",
   "execution_count": null,
   "id": "79eb6962",
   "metadata": {},
   "outputs": [],
   "source": [
    "normalized_df=(numeric_cols-numeric_cols.min())/(numeric_cols.max()-numeric_cols.min())\n",
    "#print(normalized_df.head())\n",
    "plt.figure(figsize=(15,6))\n",
    "for i,col in enumerate(normalized_df.columns):\n",
    "    plt.plot(open_meteo_df.index,normalized_df[col],label=col)\n",
    "plt.xlabel('Time')\n",
    "plt.ylabel('Normalized values')\n",
    "plt.title('Weather data over Time')\n",
    "plt.legend()\n",
    "plt.grid(True)\n",
    "plt.tight_layout()\n",
    "plt.show()"
   ]
  },
  {
   "cell_type": "code",
   "execution_count": null,
   "id": "804f5a9b",
   "metadata": {},
   "outputs": [],
   "source": [
    "n=len(open_meteo_df.columns)\n",
    "fig, axs = plt.subplots(n, 1, figsize=(14, 4 * n), sharex=True)\n",
    "\n",
    "for i, col in enumerate(open_meteo_df.columns):\n",
    "    axs[i].plot(open_meteo_df.index, open_meteo_df[col], label=col)\n",
    "    axs[i].set_xlabel(\"Time\")# how to get dates here?\n",
    "    axs[i].set_ylabel(col)\n",
    "    axs[i].set_title(f\"{col} over time\")\n",
    "    axs[i].legend(loc='upper right')\n",
    "    axs[i].grid(True)\n",
    "\n",
    "plt.tight_layout()\n",
    "plt.show()"
   ]
  },
  {
   "cell_type": "markdown",
   "id": "9ba498cf",
   "metadata": {},
   "source": [
    "# Streamlit App"
   ]
  }
 ],
 "metadata": {
  "kernelspec": {
   "display_name": "D2D_env",
   "language": "python",
   "name": "python3"
  },
  "language_info": {
   "codemirror_mode": {
    "name": "ipython",
    "version": 3
   },
   "file_extension": ".py",
   "mimetype": "text/x-python",
   "name": "python",
   "nbconvert_exporter": "python",
   "pygments_lexer": "ipython3",
   "version": "3.12.10"
  }
 },
 "nbformat": 4,
 "nbformat_minor": 5
}
